{
 "cells": [
  {
   "attachments": {},
   "cell_type": "markdown",
   "metadata": {},
   "source": [
    "# Inspect processed data"
   ]
  },
  {
   "cell_type": "code",
   "execution_count": 2,
   "metadata": {},
   "outputs": [],
   "source": [
    "import pickle"
   ]
  },
  {
   "cell_type": "code",
   "execution_count": 3,
   "metadata": {},
   "outputs": [],
   "source": [
    "in_context_chain_of_thought = pickle.load(open('../processed_data/in_context_chain_of_thought.pkl', 'rb'))"
   ]
  },
  {
   "cell_type": "code",
   "execution_count": 4,
   "metadata": {},
   "outputs": [
    {
     "data": {
      "text/plain": [
       "207135"
      ]
     },
     "execution_count": 4,
     "metadata": {},
     "output_type": "execute_result"
    }
   ],
   "source": [
    "len(in_context_chain_of_thought)"
   ]
  },
  {
   "cell_type": "code",
   "execution_count": 6,
   "metadata": {},
   "outputs": [
    {
     "data": {
      "text/plain": [
       "dict_keys(['question', 'answer', 'answer_gold', 'per_step_probs', 'answer_label', 'type'])"
      ]
     },
     "execution_count": 6,
     "metadata": {},
     "output_type": "execute_result"
    }
   ],
   "source": [
    "in_context_chain_of_thought[0].keys()"
   ]
  },
  {
   "cell_type": "code",
   "execution_count": 14,
   "metadata": {},
   "outputs": [
    {
     "name": "stdout",
     "output_type": "stream",
     "text": [
      "Q: Annie is building a diorama for her history class. The amount of time she spent building it is equal to three times the amount of time she spent planning it minus 5 minutes. If she spent 67 minutes on the diorama total, how many minutes did she spend building it?\n",
      "Let's think step by step\n",
      "Let p be the planning time in minutes and b be the building time. We know that b = 3p - 5 and b + p = 67\n",
      "Substituting the first equation into the second equation, we get 3p - 5 + p = 67\n",
      "Combining like terms, we get 4p - 5 = 67\n",
      "Adding 5 to both sides, we get 4p = 72\n",
      "Dividing both sides by 4, we get p = 18\n",
      "Substituting this value into b = 3p - 5, we find that b = 3 * 18 - 5 = 49\n",
      "The answer is 49\n",
      "\n",
      "Q: Jack needs to put his shoes on, then help both his toddlers tie their shoes. If it takes Jack 4 minutes to put his shoes on, and three minutes longer to help each toddler with their shoes, how long does it take them to get ready?\n",
      "Let's think step by step\n",
      "First figure out how long it takes to help one toddler: 4 minutes + 3 minutes = 7 minutes\n",
      "Then multiply the time per toddler by the number of toddlers: 7 minutes/toddler * 2 toddlers = 14 minutes\n",
      "Now add the time spent helping the toddlers to the time Jack spends on his own shoes: 14 minutes + 4 minutes = 18 minutes\n",
      "The answer is 18\n",
      "\n",
      "Q: Borgnine wants to see 1100 legs at the zoo. He has already seen 12 chimps, 8 lions, and 5 lizards. He is next headed to see the tarantulas. How many tarantulas does he need to see to meet his goal?\n",
      "Let's think step by step\n",
      "He has seen 48 chimp legs because 12 x 4 = 48\n",
      "He has seen 32 lion legs because 8 x 4 = 32\n",
      "He has seen 20 lizard legs because 5 x 4 = 20\n",
      "He has seen 100 total legs because 48 + 32 + 20 = 100\n",
      "He has to see 1000 tarantulas legs because 1100- 100 = 1000\n",
      "He has to see 125 tarantulas because 1000/ 8 = 125\n",
      "The answer is 125\n",
      "\n",
      "Q: John jogs at a speed of 4 miles per hour when he runs alone, but runs at 6 miles per hour when he is being dragged by his 100-pound German Shepherd dog. If John and his dog go on a run together for 30 minutes, and then John runs for an additional 30 minutes by himself, how far will John have traveled?\n",
      "Let's think step by step\n",
      "John runs at 6 miles per hour for 0.5 hours, for a distance of 6*0.5=3 miles.\n",
      "Then John runs at 4 miles per hour for 0.5 hours, for a distance of 4*0.5=2 miles.\n",
      "In total, John runs 3+2=5 miles.\n",
      "The answer is 5\n",
      "\n",
      "Q: Natalia sold clips to 48 of her friends in April, and then she sold half as many clips in May. How many clips did Natalia sell altogether in April and May?\n",
      "Let's think step by step\n"
     ]
    }
   ],
   "source": [
    "# prepend in-context examples before the questions, used as input to the encoder\n",
    "print(in_context_chain_of_thought[0][\"question\"])"
   ]
  },
  {
   "cell_type": "code",
   "execution_count": 9,
   "metadata": {},
   "outputs": [
    {
     "data": {
      "text/plain": [
       "'If Natalia sold 48 clips in April, she sold 48/2 = 24 clips in May.\\nIn total, Natalia sold 48 + 24 = 72 clips in April and May.\\nThe answer is 72'"
      ]
     },
     "execution_count": 9,
     "metadata": {},
     "output_type": "execute_result"
    }
   ],
   "source": [
    "# Codex generated answer, used as output of the decoder in the sample matching loss\n",
    "in_context_chain_of_thought[0][\"answer\"]"
   ]
  },
  {
   "cell_type": "code",
   "execution_count": 10,
   "metadata": {},
   "outputs": [
    {
     "data": {
      "text/plain": [
       "'Answer: Natalia sold 48/2 = <<48/2=24>>24 clips in May.\\nNatalia sold 48+24 = <<48+24=72>>72 clips altogether in April and May.\\n#### 72\\n'"
      ]
     },
     "execution_count": 10,
     "metadata": {},
     "output_type": "execute_result"
    }
   ],
   "source": [
    "# Gold annotated answer of the training data\n",
    "in_context_chain_of_thought[0][\"answer_gold\"]"
   ]
  },
  {
   "cell_type": "code",
   "execution_count": 11,
   "metadata": {},
   "outputs": [
    {
     "data": {
      "text/plain": [
       "1"
      ]
     },
     "execution_count": 11,
     "metadata": {},
     "output_type": "execute_result"
    }
   ],
   "source": [
    "# 1 means the predicted answer by Codex is correct, 0 means wrong\n",
    "in_context_chain_of_thought[0][\"answer_label\"] "
   ]
  },
  {
   "cell_type": "code",
   "execution_count": 12,
   "metadata": {},
   "outputs": [
    {
     "data": {
      "text/plain": [
       "'in_context_chain_of_thought'"
      ]
     },
     "execution_count": 12,
     "metadata": {},
     "output_type": "execute_result"
    }
   ],
   "source": [
    "in_context_chain_of_thought[0][\"type\"]"
   ]
  },
  {
   "cell_type": "code",
   "execution_count": 13,
   "metadata": {},
   "outputs": [
    {
     "data": {
      "text/plain": [
       "[{'▁If': 1.0},\n",
       " OrderedDict([('▁Nat', 0.6018),\n",
       "              ('▁in', 0.0261),\n",
       "              ('▁we', 0.0125),\n",
       "              ('▁48', 0.0335),\n",
       "              ('▁she', 0.2588)]),\n",
       " OrderedDict([('alia', 0.9968), ('ilia', 0.0001), ('▁sold', 0.0013)]),\n",
       " OrderedDict([('▁sold', 0.9573), ('▁is', 0.0022), ('▁had', 0.0024)]),\n",
       " OrderedDict([('▁48', 0.4455),\n",
       "              ('▁clips', 0.3353),\n",
       "              ('▁half', 0.1318),\n",
       "              ('▁to', 0.0351),\n",
       "              ('▁twice', 0.0058)]),\n",
       " OrderedDict([('▁clips', 0.9248),\n",
       "              ('▁friends', 0.0062),\n",
       "              ('▁to', 0.0058),\n",
       "              ('▁of', 0.0109),\n",
       "              ('▁in', 0.0345)]),\n",
       " OrderedDict([('▁in', 0.7597),\n",
       "              (',', 0.0206),\n",
       "              ('▁to', 0.2018),\n",
       "              ('▁and', 0.0031),\n",
       "              ('▁then', 0.0028)]),\n",
       " OrderedDict([('▁April', 0.9759),\n",
       "              ('▁May', 0.0039),\n",
       "              ('▁total', 0.0025),\n",
       "              ('▁the', 0.0067)]),\n",
       " OrderedDict([(',', 0.7709),\n",
       "              ('▁to', 0.0033),\n",
       "              ('▁and', 0.1443),\n",
       "              ('▁she', 0.0074),\n",
       "              ('▁then', 0.0602)]),\n",
       " OrderedDict([('▁she', 0.1407),\n",
       "              ('▁in', 0.0182),\n",
       "              ('▁and', 0.2126),\n",
       "              ('▁that', 0.0235),\n",
       "              ('▁then', 0.5304)]),\n",
       " OrderedDict([('▁sold', 0.815),\n",
       "              ('▁must', 0.0433),\n",
       "              ('▁will', 0.0162),\n",
       "              ('▁would', 0.0389),\n",
       "              ('▁then', 0.0111)]),\n",
       " OrderedDict([('▁48', 0.556),\n",
       "              ('▁24', 0.1033),\n",
       "              ('▁half', 0.1671),\n",
       "              ('▁1', 0.0266),\n",
       "              ('▁(', 0.0178)]),\n",
       " {'/2': 1.0},\n",
       " OrderedDict([('▁=', 0.8517),\n",
       "              ('▁clips', 0.0251),\n",
       "              ('=', 0.099),\n",
       "              ('▁in', 0.0068),\n",
       "              ('▁or', 0.0085)]),\n",
       " OrderedDict([('▁24', 0.9896),\n",
       "              ('▁12', 0.0005),\n",
       "              ('24', 0.007),\n",
       "              ('▁', 0.0002),\n",
       "              ('▁2', 0.0004)]),\n",
       " OrderedDict([('▁clips', 0.8775),\n",
       "              ('▁less', 0.0026),\n",
       "              ('▁in', 0.106),\n",
       "              ('▁more', 0.0026)]),\n",
       " OrderedDict([('▁in', 0.9914),\n",
       "              ('▁during', 0.0008),\n",
       "              ('▁less', 0.001),\n",
       "              ('▁the', 0.0011),\n",
       "              ('▁to', 0.0013)]),\n",
       " OrderedDict([('▁May', 0.9877),\n",
       "              ('▁the', 0.0026),\n",
       "              ('▁March', 0.0006),\n",
       "              ('▁April', 0.0012),\n",
       "              ('▁may', 0.0054)]),\n",
       " {'.': 1.0},\n",
       " {'▁In': 1.0},\n",
       " OrderedDict([('▁total', 0.8519),\n",
       "              ('▁both', 0.0057),\n",
       "              ('▁May', 0.0097),\n",
       "              ('▁the', 0.0058),\n",
       "              ('▁April', 0.1015)]),\n",
       " OrderedDict([(',', 0.8402),\n",
       "              ('▁Nat', 0.0197),\n",
       "              ('▁in', 0.0042),\n",
       "              ('▁she', 0.114),\n",
       "              ('▁then', 0.0114)]),\n",
       " OrderedDict([('▁Nat', 0.2935),\n",
       "              ('▁in', 0.0108),\n",
       "              ('▁48', 0.0141),\n",
       "              ('▁she', 0.5699),\n",
       "              ('▁then', 0.0726)]),\n",
       " OrderedDict([('alia', 0.9996), ('elia', 0.0002)]),\n",
       " OrderedDict([('▁sold', 0.9757),\n",
       "              ('▁has', 0.0071),\n",
       "              ('▁will', 0.0025),\n",
       "              ('▁then', 0.0048)]),\n",
       " OrderedDict([('▁48', 0.9477),\n",
       "              ('▁clips', 0.0153),\n",
       "              ('▁24', 0.0158),\n",
       "              ('▁72', 0.0048)]),\n",
       " OrderedDict([('▁+', 0.6164),\n",
       "              ('+', 0.3547),\n",
       "              ('▁clips', 0.0236),\n",
       "              ('▁in', 0.0019),\n",
       "              ('▁April', 0.0005)]),\n",
       " OrderedDict([('▁24', 0.992),\n",
       "              ('▁12', 0.0002),\n",
       "              ('24', 0.0065),\n",
       "              ('▁2', 0.0002),\n",
       "              ('▁48', 0.0002)]),\n",
       " OrderedDict([('▁=', 0.9853),\n",
       "              (',', 0.0002),\n",
       "              ('▁clips', 0.0072),\n",
       "              ('▁', 0.0002),\n",
       "              ('=', 0.0066)]),\n",
       " OrderedDict([('▁72', 0.9951),\n",
       "              ('▁', 0.0002),\n",
       "              ('▁70', 0.0003),\n",
       "              ('72', 0.0026),\n",
       "              ('▁7', 0.0001)]),\n",
       " OrderedDict([('▁clips', 0.9888),\n",
       "              ('▁clip', 0.001),\n",
       "              ('.', 0.0012),\n",
       "              ('▁total', 0.0018)]),\n",
       " OrderedDict([('▁in', 0.359),\n",
       "              ('.', 0.3778),\n",
       "              ('▁altogether', 0.0955),\n",
       "              ('▁over', 0.0129)]),\n",
       " OrderedDict([('▁April', 0.8876),\n",
       "              ('▁both', 0.0564),\n",
       "              ('▁May', 0.0049),\n",
       "              ('▁total', 0.0139),\n",
       "              ('▁the', 0.0216)]),\n",
       " OrderedDict([('▁and', 0.9928),\n",
       "              (',', 0.0004),\n",
       "              ('▁+', 0.0024),\n",
       "              ('▁plus', 0.0005)]),\n",
       " OrderedDict([('▁May', 0.9962),\n",
       "              ('▁June', 0.0001),\n",
       "              ('▁in', 0.0023),\n",
       "              ('▁may', 0.0005),\n",
       "              ('▁then', 0.0001)]),\n",
       " {'.': 1.0},\n",
       " {'▁The': 1.0},\n",
       " OrderedDict([('▁answer', 0.9972),\n",
       "              ('▁number', 0.0003),\n",
       "              ('▁Answer', 0.0006),\n",
       "              ('▁total', 0.0005),\n",
       "              ('▁an', 0.0002)]),\n",
       " OrderedDict([('▁is', 0.999),\n",
       "              (':', 0.0001),\n",
       "              ('▁to', 0.0001),\n",
       "              ('▁in', 0.0001),\n",
       "              ('▁72', 0.0004)]),\n",
       " OrderedDict([('▁72', 0.9981),\n",
       "              ('▁24', 0.0001),\n",
       "              ('▁', 0.0004),\n",
       "              ('▁48', 0.0001),\n",
       "              ('▁7', 0.0001)])]"
      ]
     },
     "execution_count": 13,
     "metadata": {},
     "output_type": "execute_result"
    }
   ],
   "source": [
    "# the per-step top-5 probabilities of the predicted answer by Codex \n",
    "# then transformed to FlanT5 tokens using dynamic programming\n",
    "# used when finetuning FlanT5 using the probability-matching loss\n",
    "in_context_chain_of_thought[0][\"per_step_probs\"]"
   ]
  },
  {
   "cell_type": "code",
   "execution_count": null,
   "metadata": {},
   "outputs": [],
   "source": []
  }
 ],
 "metadata": {
  "kernelspec": {
   "display_name": "dl_py3.10",
   "language": "python",
   "name": "python3"
  },
  "language_info": {
   "codemirror_mode": {
    "name": "ipython",
    "version": 3
   },
   "file_extension": ".py",
   "mimetype": "text/x-python",
   "name": "python",
   "nbconvert_exporter": "python",
   "pygments_lexer": "ipython3",
   "version": "3.10.10"
  },
  "orig_nbformat": 4
 },
 "nbformat": 4,
 "nbformat_minor": 2
}
