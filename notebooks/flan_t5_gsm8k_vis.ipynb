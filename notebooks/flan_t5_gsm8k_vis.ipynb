{
 "cells": [
  {
   "cell_type": "markdown",
   "id": "21f052ab-64e5-4d3a-8772-f984ba4739e2",
   "metadata": {},
   "source": [
    "# Visualization Flan-T5 Decoding Probability"
   ]
  },
  {
   "cell_type": "code",
   "execution_count": null,
   "id": "fb77d6d2-8477-4bb1-96c8-215b63f66db5",
   "metadata": {},
   "outputs": [],
   "source": []
  }
 ],
 "metadata": {
  "kernelspec": {
   "display_name": "Python 3 (ipykernel)",
   "language": "python",
   "name": "python3"
  },
  "language_info": {
   "codemirror_mode": {
    "name": "ipython",
    "version": 3
   },
   "file_extension": ".py",
   "mimetype": "text/x-python",
   "name": "python",
   "nbconvert_exporter": "python",
   "pygments_lexer": "ipython3",
   "version": "3.8.15"
  }
 },
 "nbformat": 4,
 "nbformat_minor": 5
}
