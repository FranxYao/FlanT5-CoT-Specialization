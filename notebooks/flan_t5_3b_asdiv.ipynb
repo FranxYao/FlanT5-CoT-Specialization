{
 "cells": [
  {
   "cell_type": "markdown",
   "id": "f434e707-d5b1-4bea-8c58-9dada196c167",
   "metadata": {},
   "source": [
    "# Testing flan-t5 performance on ASDIV dataset "
   ]
  },
  {
   "cell_type": "code",
   "execution_count": 48,
   "id": "28efad8f-5ad1-42dc-99fc-dacd76fbc2b1",
   "metadata": {},
   "outputs": [],
   "source": [
    "import datasets\n",
    "import torch\n",
    "import re\n",
    "import json\n",
    "\n",
    "import pickle\n",
    "import numpy as np\n",
    "import xml.etree.ElementTree as ET\n",
    "\n",
    "from tqdm import tqdm\n",
    "from transformers import T5Tokenizer, T5ForConditionalGeneration"
   ]
  },
  {
   "cell_type": "code",
   "execution_count": 76,
   "id": "7887d5fb-0b06-4272-b446-d03f35e9504e",
   "metadata": {},
   "outputs": [],
   "source": [
    "import sys\n",
    "sys.path.append('..')"
   ]
  },
  {
   "cell_type": "code",
   "execution_count": 77,
   "id": "594ebd81-3a9e-4b5b-9488-841aa463afea",
   "metadata": {},
   "outputs": [],
   "source": [
    "from src.utils import parse_pred_ans"
   ]
  },
  {
   "cell_type": "code",
   "execution_count": 10,
   "id": "b6703b10-905f-4a8d-ad2d-b7ea2c9a9dfb",
   "metadata": {},
   "outputs": [],
   "source": [
    "tree = ET.parse('../data/asdiv/dataset/ASDiv.xml')"
   ]
  },
  {
   "cell_type": "code",
   "execution_count": 12,
   "id": "49694381-5de8-4212-8799-5eb879ffe362",
   "metadata": {},
   "outputs": [],
   "source": [
    "root = tree.getroot()"
   ]
  },
  {
   "cell_type": "code",
   "execution_count": 15,
   "id": "487753b5-f4f6-4177-a9fc-292621f28605",
   "metadata": {
    "collapsed": true,
    "jupyter": {
     "outputs_hidden": true,
     "source_hidden": true
    },
    "tags": []
   },
   "outputs": [
    {
     "name": "stdout",
     "output_type": "stream",
     "text": [
      "ProblemSet {}\n"
     ]
    }
   ],
   "source": [
    "for child in root:\n",
    "    print(child.tag, child.attrib)"
   ]
  },
  {
   "cell_type": "code",
   "execution_count": 43,
   "id": "0ba02079-96fc-470d-a27d-971862be3474",
   "metadata": {
    "jupyter": {
     "source_hidden": true
    },
    "tags": []
   },
   "outputs": [],
   "source": [
    "questions = []\n",
    "answers = []\n",
    "equations = []\n",
    "for c in child:\n",
    "    q = ''\n",
    "    a = ''\n",
    "    f = ''\n",
    "    for ci in c:\n",
    "        if(ci.tag == 'Body'): q += ci.text\n",
    "        if(ci.tag == 'Question'): q += ' ' + ci.text\n",
    "        if(ci.tag == 'Answer'): a += ci.text\n",
    "        if(ci.tag == 'Formula'): f += ci.text\n",
    "    questions.append(q)\n",
    "    answers.append(a)\n",
    "    equations.append(f)"
   ]
  },
  {
   "cell_type": "code",
   "execution_count": 47,
   "id": "5d0b8420-db7c-400d-ad25-7e21be0ad095",
   "metadata": {
    "collapsed": true,
    "jupyter": {
     "outputs_hidden": true,
     "source_hidden": true
    },
    "tags": []
   },
   "outputs": [
    {
     "data": {
      "text/plain": [
       "(2305, 2305, 2305)"
      ]
     },
     "execution_count": 47,
     "metadata": {},
     "output_type": "execute_result"
    }
   ],
   "source": [
    "len(questions), len(answers), len(equations)"
   ]
  },
  {
   "cell_type": "code",
   "execution_count": 44,
   "id": "6ac6ad04-de20-43d5-a2da-8baedd1b6212",
   "metadata": {
    "collapsed": true,
    "jupyter": {
     "outputs_hidden": true,
     "source_hidden": true
    },
    "tags": []
   },
   "outputs": [
    {
     "data": {
      "text/plain": [
       "'Seven red apples and two green apples are in the basket. How many apples are in the basket?'"
      ]
     },
     "execution_count": 44,
     "metadata": {},
     "output_type": "execute_result"
    }
   ],
   "source": [
    "questions[0]"
   ]
  },
  {
   "cell_type": "code",
   "execution_count": 45,
   "id": "312905a5-77d5-4990-80a4-7db1acc6f098",
   "metadata": {
    "collapsed": true,
    "jupyter": {
     "outputs_hidden": true,
     "source_hidden": true
    },
    "tags": []
   },
   "outputs": [
    {
     "data": {
      "text/plain": [
       "'9 (apples)'"
      ]
     },
     "execution_count": 45,
     "metadata": {},
     "output_type": "execute_result"
    }
   ],
   "source": [
    "answers[0]"
   ]
  },
  {
   "cell_type": "code",
   "execution_count": 46,
   "id": "13f1c5ee-86c5-4bba-8662-88c4bf7b1661",
   "metadata": {
    "collapsed": true,
    "jupyter": {
     "outputs_hidden": true,
     "source_hidden": true
    },
    "tags": []
   },
   "outputs": [
    {
     "data": {
      "text/plain": [
       "'7+2=9'"
      ]
     },
     "execution_count": 46,
     "metadata": {},
     "output_type": "execute_result"
    }
   ],
   "source": [
    "equations[0]"
   ]
  },
  {
   "cell_type": "code",
   "execution_count": 49,
   "id": "946d9d12-83d5-4885-ae22-81aeebdff706",
   "metadata": {},
   "outputs": [],
   "source": [
    "# pickle.dump(questions, open('../processed_data/ASDiv_questions.pkl', 'wb'))\n",
    "# pickle.dump(answers, open('../processed_data/ASDiv_answers.pkl', 'wb'))\n",
    "# pickle.dump(equations, open('../processed_data/ASDiv_equations.pkl', 'wb'))"
   ]
  },
  {
   "cell_type": "code",
   "execution_count": 50,
   "id": "125a514e-fbf4-40b9-b6be-0d2e655518cc",
   "metadata": {},
   "outputs": [],
   "source": [
    "questions = pickle.load(open('../processed_data/ASDiv_questions.pkl', 'rb'))\n",
    "answers = pickle.load(open('../processed_data/ASDiv_answers.pkl', 'rb'))\n",
    "equations = pickle.load(open('../processed_data/ASDiv_equations.pkl', 'rb'))"
   ]
  },
  {
   "cell_type": "code",
   "execution_count": 55,
   "id": "5b076126-f7f3-426c-8c50-f04355821f8b",
   "metadata": {},
   "outputs": [
    {
     "data": {
      "text/plain": [
       "(2305, 2305, 2305)"
      ]
     },
     "execution_count": 55,
     "metadata": {},
     "output_type": "execute_result"
    }
   ],
   "source": [
    "len(questions), len(answers), len(equations)"
   ]
  },
  {
   "cell_type": "code",
   "execution_count": 57,
   "id": "3dd35ad2-d2b5-4541-b7ad-59b15e7e88f8",
   "metadata": {},
   "outputs": [],
   "source": [
    "prompt_complex = open('../data/multiarith/prompt_hardest_from_gsm8k.txt').read()\n",
    "prompt_original = open('../data/multiarith/prompt_original_from_gsm8k.txt').read()\n",
    "prompt_random = open('../data/multiarith/prompt_random_from_gsm8k.txt').read()"
   ]
  },
  {
   "cell_type": "code",
   "execution_count": 59,
   "id": "328c2414-49ae-4111-8474-12afc1252af0",
   "metadata": {},
   "outputs": [],
   "source": [
    "gpu_id = 'cuda:4'"
   ]
  },
  {
   "cell_type": "code",
   "execution_count": 60,
   "id": "68e9600f-72d9-44d7-9de3-47f296ebaf35",
   "metadata": {},
   "outputs": [],
   "source": [
    "tokenizer = T5Tokenizer.from_pretrained(\"google/flan-t5-xl\")\n",
    "model = T5ForConditionalGeneration.from_pretrained(\"google/flan-t5-xl\").to(gpu_id)"
   ]
  },
  {
   "cell_type": "code",
   "execution_count": 63,
   "id": "9a66064f-689f-4e12-b11f-a604b2e264ab",
   "metadata": {},
   "outputs": [],
   "source": [
    "q = questions[0]"
   ]
  },
  {
   "cell_type": "code",
   "execution_count": 68,
   "id": "04ee1623-b40d-46b6-9c8f-b7c4ef0a6451",
   "metadata": {},
   "outputs": [],
   "source": [
    "prompt_q = prompt_original + '\\nQuestion: ' + q + '\\n'\n",
    "prompt_q += \"Let's think step by step\\n\""
   ]
  },
  {
   "cell_type": "code",
   "execution_count": 70,
   "id": "0f68fab9-7947-4c43-a003-7fe57f5fe162",
   "metadata": {
    "collapsed": true,
    "jupyter": {
     "outputs_hidden": true
    },
    "tags": []
   },
   "outputs": [
    {
     "data": {
      "text/plain": [
       "'9 (apples)'"
      ]
     },
     "execution_count": 70,
     "metadata": {},
     "output_type": "execute_result"
    }
   ],
   "source": [
    "answers[0]"
   ]
  },
  {
   "cell_type": "code",
   "execution_count": 69,
   "id": "9c6e4eb3-f771-4912-bd20-a99afe8bb83d",
   "metadata": {
    "collapsed": true,
    "jupyter": {
     "outputs_hidden": true
    },
    "tags": []
   },
   "outputs": [
    {
     "name": "stdout",
     "output_type": "stream",
     "text": [
      "Question: There are 15 trees in the grove. Grove workers will plant trees in the grove today. After they are done, there will be 21 trees. How many trees did the grove workers plant today?\n",
      "Let's think step by step\n",
      "There are 15 trees originally.\n",
      "Then there were 21 trees after some more were planted.\n",
      "So there must have been 21 - 15 = 6.\n",
      "The answer is 6.\n",
      "\n",
      "Question: If there are 3 cars in the parking lot and 2 more cars arrive, how many cars are in the parking lot?\n",
      "Let's think step by step\n",
      "There are originally 3 cars.\n",
      "2 more cars arrive.\n",
      "3 + 2 = 5.\n",
      "The answer is 5.\n",
      "\n",
      "Question: Leah had 32 chocolates and her sister had 42. If they ate 35, how many pieces do they have left in total?\n",
      "Let's think step by step\n",
      "Originally, Leah had 32 chocolates.\n",
      "Her sister had 42.\n",
      "So in total they had 32 + 42 = 74.\n",
      "After eating 35, they had 74 - 35 = 39.\n",
      "The answer is 39.\n",
      "\n",
      "Question: Jason had 20 lollipops. He gave Denny some lollipops. Now Jason has 12 lollipops. How many lollipops did Jason give to Denny?\n",
      "Let's think step by step\n",
      "Jason started with 20 lollipops.\n",
      "Then he had 12 after giving some to Denny.\n",
      "So he gave Denny 20 - 12 = 8.\n",
      "The answer is 8.\n",
      "\n",
      "Question: Shawn has five toys. For Christmas, he got two toys each from his mom and dad. How many toys does he have now?\n",
      "Let's think step by step\n",
      "Shawn started with 5 toys.\n",
      "If he got 2 toys each from his mom and dad, then that is 4 more toys.\n",
      "5 + 4 = 9.\n",
      "The answer is 9.\n",
      "\n",
      "Question: There were nine computers in the server room. Five more computers were installed each day, from monday to thursday. How many computers are now in the server room?\n",
      "Let's think step by step\n",
      "There were originally 9 computers.\n",
      "For each of 4 days, 5 more computers were added.\n",
      "So 5 * 4 = 20 computers were added.\n",
      "9 + 20 is 29.\n",
      "The answer is 29.\n",
      "\n",
      "Question: Michael had 58 golf balls. On tuesday, he lost 23 golf balls. On wednesday, he lost 2 more. How many golf balls did he have at the end of wednesday?\n",
      "Let's think step by step\n",
      "Michael started with 58 golf balls.\n",
      "After losing 23 on tues- day, he had 58 - 23 = 35.\n",
      "After losing 2 more, he had 35 - 2 = 33 golf balls.\n",
      "The answer is 33.\n",
      "\n",
      "Question: Olivia has $23. She bought five bagels for $3 each. How much money does she have left?\n",
      "Let's think step by step\n",
      "Olivia had 23 dollars.\n",
      "5 bagels for 3 dollars each will be 5 x 3 = 15 dollars.\n",
      "So she has 23 - 15 dollars left.\n",
      "23 - 15 is 8.\n",
      "The answer is 8.\n",
      "\n",
      "Question: Seven red apples and two green apples are in the basket. How many apples are in the basket?\n",
      "Let's think step by step\n",
      "\n"
     ]
    }
   ],
   "source": [
    "print(prompt_q)"
   ]
  },
  {
   "cell_type": "markdown",
   "id": "5e8ff96d-7699-4df3-a99d-a2c114ba81e0",
   "metadata": {},
   "source": [
    "# Test Data with Original Prompt, 20.56"
   ]
  },
  {
   "cell_type": "code",
   "execution_count": 74,
   "id": "2b95c720-4f9e-4952-87a4-589574886d00",
   "metadata": {
    "tags": []
   },
   "outputs": [
    {
     "name": "stderr",
     "output_type": "stream",
     "text": [
      "100%|███████████████████████████████████████████████████████████████████████████████████████████████████████████████████| 2305/2305 [1:06:24<00:00,  1.73s/it]\n"
     ]
    }
   ],
   "source": [
    "with open('../outputs/test_flan_t5_3b_asdiv_original.txt', 'w') as fd:\n",
    "    for q, a in tqdm(zip(questions, answers), total=len(questions)):\n",
    "        \n",
    "        prompt_q = prompt_original + '\\nQuestion: ' + q + '\\n'\n",
    "        prompt_q += \"Let's think step by step\\n\"\n",
    "        \n",
    "        input_ids = tokenizer(prompt_q, return_tensors=\"pt\").input_ids.to(gpu_id)\n",
    "        outputs = model.generate(input_ids, max_length=256)\n",
    "        ans_ = tokenizer.decode(outputs[0])\n",
    "        \n",
    "        fd.write('Q: %s\\nA_model:\\n%s\\nA:\\n%s\\n\\n' % (q, ans_, a))"
   ]
  },
  {
   "cell_type": "code",
   "execution_count": 78,
   "id": "53939732-117e-4490-8844-caaeea4adbc6",
   "metadata": {},
   "outputs": [
    {
     "name": "stdout",
     "output_type": "stream",
     "text": [
      "num_q 2305 correct 474 ratio 0.2056 skipped 55\n"
     ]
    }
   ],
   "source": [
    "_, _, _ = parse_pred_ans('../outputs/test_flan_t5_3b_asdiv_original.txt')"
   ]
  },
  {
   "cell_type": "markdown",
   "id": "95ec9e70-f71a-4963-8c33-caab6e305130",
   "metadata": {},
   "source": [
    "# Test Data with Complex Prompt, TBC"
   ]
  },
  {
   "cell_type": "code",
   "execution_count": 13,
   "id": "bd78b1bd-63ae-42da-a089-db7b30d7f48f",
   "metadata": {},
   "outputs": [
    {
     "name": "stderr",
     "output_type": "stream",
     "text": [
      "100%|███████████████████████████████████████████████████████████████████████████████████████████████████████████████████████| 400/400 [15:30<00:00,  2.33s/it]\n"
     ]
    }
   ],
   "source": [
    "with open('../outputs/test_flan_t5_3b_multiarith_complex.txt', 'w') as fd:\n",
    "    for case in tqdm(test_data):\n",
    "        q = case['sQuestion'][1:-1]\n",
    "        a = case['lSolutions']\n",
    "        \n",
    "        prompt_q = prompt_complex + 'Question: ' + q + '\\n'\n",
    "        prompt_q += \"Let's think step by step\\n\"\n",
    "        \n",
    "        input_ids = tokenizer(prompt_q, return_tensors=\"pt\").input_ids.to(\"cuda:2\")\n",
    "        outputs = model.generate(input_ids, max_length=256)\n",
    "        ans_ = tokenizer.decode(outputs[0])\n",
    "        \n",
    "        fd.write('Q: %s\\nA_model:\\n%s\\nA:\\n%s\\n\\n' % (q, ans_, a))"
   ]
  },
  {
   "cell_type": "code",
   "execution_count": 14,
   "id": "83bfc615-eda2-48e2-96f4-0c64b006b3f2",
   "metadata": {},
   "outputs": [
    {
     "name": "stdout",
     "output_type": "stream",
     "text": [
      "num_q 400 correct 95 ratio 0.2375\n"
     ]
    }
   ],
   "source": [
    "_, _, _ = parse_pred_ans('../outputs/test_flan_t5_3b_multiarith_complex.txt')"
   ]
  },
  {
   "cell_type": "markdown",
   "id": "f80612d1-6406-42fa-b3d5-c136e0ed6acb",
   "metadata": {},
   "source": [
    "# Test Data with Random Prompt, TBC"
   ]
  },
  {
   "cell_type": "code",
   "execution_count": 15,
   "id": "186b87dc-d9b8-437e-b1e7-8cb07b997c22",
   "metadata": {},
   "outputs": [
    {
     "name": "stderr",
     "output_type": "stream",
     "text": [
      "100%|███████████████████████████████████████████████████████████████████████████████████████████████████████████████████████| 400/400 [12:25<00:00,  1.86s/it]\n"
     ]
    }
   ],
   "source": [
    "with open('../outputs/test_flan_t5_3b_multiarith_random.txt', 'w') as fd:\n",
    "    for case in tqdm(test_data):\n",
    "        q = case['sQuestion'][1:-1]\n",
    "        a = case['lSolutions']\n",
    "        \n",
    "        prompt_q = prompt_random + 'Question: ' + q + '\\n'\n",
    "        prompt_q += \"Let's think step by step\\n\"\n",
    "        \n",
    "        input_ids = tokenizer(prompt_q, return_tensors=\"pt\").input_ids.to(\"cuda:2\")\n",
    "        outputs = model.generate(input_ids, max_length=256)\n",
    "        ans_ = tokenizer.decode(outputs[0])\n",
    "        \n",
    "        fd.write('Q: %s\\nA_model:\\n%s\\nA:\\n%s\\n\\n' % (q, ans_, a))"
   ]
  },
  {
   "cell_type": "code",
   "execution_count": 16,
   "id": "aa6ab56c-2758-4117-9d77-63b06e9a12a9",
   "metadata": {},
   "outputs": [
    {
     "name": "stdout",
     "output_type": "stream",
     "text": [
      "num_q 400 correct 93 ratio 0.2325\n"
     ]
    }
   ],
   "source": [
    "_, _, _ = parse_pred_ans('../outputs/test_flan_t5_3b_multiarith_random.txt')"
   ]
  },
  {
   "cell_type": "markdown",
   "id": "95d17373-7751-4d21-8eaf-56845eb36a51",
   "metadata": {},
   "source": [
    "# Test Data with Direct Answering, TBC"
   ]
  },
  {
   "cell_type": "code",
   "execution_count": 17,
   "id": "d327dce9-c034-4dcd-bc53-0a1750ccc6d0",
   "metadata": {},
   "outputs": [],
   "source": [
    "prompt_direct = open('../lib_prompt/prompt_direct.txt').read()"
   ]
  },
  {
   "cell_type": "code",
   "execution_count": 18,
   "id": "7be4b343-7f13-4cb5-a44c-992f4ec44711",
   "metadata": {},
   "outputs": [
    {
     "name": "stderr",
     "output_type": "stream",
     "text": [
      "100%|███████████████████████████████████████████████████████████████████████████████████████████████████████████████████████| 400/400 [07:27<00:00,  1.12s/it]\n"
     ]
    }
   ],
   "source": [
    "with open('../outputs/test_flan_t5_3b_multiarith_direct.txt', 'w') as fd:\n",
    "    for case in tqdm(test_data):\n",
    "        q = case['sQuestion'][1:-1]\n",
    "        a = case['lSolutions']\n",
    "        \n",
    "        prompt_q = prompt_direct + 'Question: ' + q + '\\n'\n",
    "        \n",
    "        input_ids = tokenizer(prompt_q, return_tensors=\"pt\").input_ids.to(\"cuda:2\")\n",
    "        outputs = model.generate(input_ids, max_length=256)\n",
    "        ans_ = tokenizer.decode(outputs[0])\n",
    "        \n",
    "        fd.write('Q: %s\\nA_model:\\n%s\\nA:\\n%s\\n\\n' % (q, ans_, a))"
   ]
  },
  {
   "cell_type": "code",
   "execution_count": 19,
   "id": "8c2afb1e-35ce-4d23-a2ae-ef0858dd5881",
   "metadata": {},
   "outputs": [
    {
     "name": "stdout",
     "output_type": "stream",
     "text": [
      "num_q 400 correct 51 ratio 0.1275\n"
     ]
    }
   ],
   "source": [
    "_, _, _ = parse_pred_ans('../outputs/test_flan_t5_3b_multiarith_direct.txt')"
   ]
  }
 ],
 "metadata": {
  "kernelspec": {
   "display_name": "Python 3 (ipykernel)",
   "language": "python",
   "name": "python3"
  },
  "language_info": {
   "codemirror_mode": {
    "name": "ipython",
    "version": 3
   },
   "file_extension": ".py",
   "mimetype": "text/x-python",
   "name": "python",
   "nbconvert_exporter": "python",
   "pygments_lexer": "ipython3",
   "version": "3.8.15"
  }
 },
 "nbformat": 4,
 "nbformat_minor": 5
}
