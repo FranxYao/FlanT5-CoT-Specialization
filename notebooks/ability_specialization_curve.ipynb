{
 "cells": [
  {
   "cell_type": "markdown",
   "id": "acbb5ef8-3a11-40f7-9b1a-fc855f1fed18",
   "metadata": {},
   "source": [
    "# Ability Specialization, FlanT5 3B"
   ]
  },
  {
   "cell_type": "code",
   "execution_count": null,
   "id": "0208f377-ed01-45f2-a2de-955dfe61c96e",
   "metadata": {},
   "outputs": [],
   "source": []
  }
 ],
 "metadata": {
  "kernelspec": {
   "display_name": "Python 3 (ipykernel)",
   "language": "python",
   "name": "python3"
  },
  "language_info": {
   "codemirror_mode": {
    "name": "ipython",
    "version": 3
   },
   "file_extension": ".py",
   "mimetype": "text/x-python",
   "name": "python",
   "nbconvert_exporter": "python",
   "pygments_lexer": "ipython3",
   "version": "3.8.15"
  }
 },
 "nbformat": 4,
 "nbformat_minor": 5
}
